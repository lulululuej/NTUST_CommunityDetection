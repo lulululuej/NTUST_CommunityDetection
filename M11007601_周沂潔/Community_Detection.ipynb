{
  "nbformat": 4,
  "nbformat_minor": 0,
  "metadata": {
    "colab": {
      "name": "Community Detection.ipynb",
      "provenance": [],
      "collapsed_sections": []
    },
    "kernelspec": {
      "name": "python3",
      "display_name": "Python 3"
    },
    "language_info": {
      "name": "python"
    }
  },
  "cells": [
    {
      "cell_type": "code",
      "source": [
        "import community.community_louvain\n",
        "import matplotlib.cm as cm\n",
        "import matplotlib.pyplot as plt\n",
        "import networkx as nx\n",
        "import pandas as pd\n",
        "from tqdm import tqdm\n",
        "import numpy as np\n",
        "import csv"
      ],
      "metadata": {
        "id": "-7tR0uDbLcpP"
      },
      "execution_count": null,
      "outputs": []
    },
    {
      "cell_type": "code",
      "source": [
        "train_set = pd.read_csv('train.csv')\n",
        "trainNode1 = train_set.iloc[:, 0].values\n",
        "trainNode2 = train_set.iloc[:, 1].values\n",
        "nodeCount = max(max(trainNode1),max(trainNode2))"
      ],
      "metadata": {
        "id": "-oFmyzkuLkns"
      },
      "execution_count": null,
      "outputs": []
    },
    {
      "cell_type": "code",
      "source": [
        "print(len(trainNode1))"
      ],
      "metadata": {
        "colab": {
          "base_uri": "https://localhost:8080/"
        },
        "id": "-AaKxQgoWZKu",
        "outputId": "20648959-5d4d-4193-e28e-2e4b7de07902"
      },
      "execution_count": null,
      "outputs": [
        {
          "output_type": "stream",
          "name": "stdout",
          "text": [
            "1049866\n"
          ]
        }
      ]
    },
    {
      "cell_type": "code",
      "source": [
        "print(nodeCount)"
      ],
      "metadata": {
        "colab": {
          "base_uri": "https://localhost:8080/"
        },
        "id": "t3tNpWFzMaHX",
        "outputId": "1042b76f-2837-41e1-c351-e4b20fa810b0"
      },
      "execution_count": null,
      "outputs": [
        {
          "output_type": "stream",
          "name": "stdout",
          "text": [
            "425956\n"
          ]
        }
      ]
    },
    {
      "cell_type": "code",
      "source": [
        "independentNode = []\n",
        "for i in tqdm(range(nodeCount+1)):\n",
        "  if i not in trainNode1 and i not in trainNode2:\n",
        "    independentNode.append(i)"
      ],
      "metadata": {
        "colab": {
          "base_uri": "https://localhost:8080/"
        },
        "id": "N4x6EeL6MdeN",
        "outputId": "b7158506-19d0-4ff4-b40e-fcd7944894eb"
      },
      "execution_count": null,
      "outputs": [
        {
          "output_type": "stream",
          "name": "stderr",
          "text": [
            "100%|██████████| 425957/425957 [08:18<00:00, 854.54it/s]\n"
          ]
        }
      ]
    },
    {
      "cell_type": "code",
      "source": [
        "print(trainNode2[-1])"
      ],
      "metadata": {
        "colab": {
          "base_uri": "https://localhost:8080/"
        },
        "id": "OIcNWMwmVzR9",
        "outputId": "a2ee3a90-aa9b-4b5b-c0bf-d521478498bd"
      },
      "execution_count": null,
      "outputs": [
        {
          "output_type": "stream",
          "name": "stdout",
          "text": [
            "319064\n"
          ]
        }
      ]
    },
    {
      "cell_type": "code",
      "source": [
        "independentNodeCount = len(independentNode)\n",
        "for i in tqdm(range(independentNodeCount)):\n",
        "  trainNode1 = np.append(trainNode1, independentNode[i])\n",
        "  trainNode2 = np.append(trainNode2, nodeCount+10)"
      ],
      "metadata": {
        "colab": {
          "base_uri": "https://localhost:8080/"
        },
        "id": "3bH3zHPePc__",
        "outputId": "30913e79-4040-43fc-be2d-4f813d646b99"
      },
      "execution_count": null,
      "outputs": [
        {
          "output_type": "stream",
          "name": "stderr",
          "text": [
            "100%|██████████| 108877/108877 [14:17<00:00, 126.93it/s]\n"
          ]
        }
      ]
    },
    {
      "cell_type": "code",
      "source": [
        "print(trainNode1[-1])"
      ],
      "metadata": {
        "colab": {
          "base_uri": "https://localhost:8080/"
        },
        "id": "AgZx0SGkWxPb",
        "outputId": "5c9cc0d0-ca27-44bc-ae21-c6d09ba88e1a"
      },
      "execution_count": null,
      "outputs": [
        {
          "output_type": "stream",
          "name": "stdout",
          "text": [
            "425952\n"
          ]
        }
      ]
    },
    {
      "cell_type": "code",
      "source": [
        "list1, list2 = zip(*sorted(zip(trainNode1, trainNode2)))"
      ],
      "metadata": {
        "id": "sJ1MD-X4rnMV"
      },
      "execution_count": null,
      "outputs": []
    },
    {
      "cell_type": "code",
      "source": [
        "print(list1[0:10])\n",
        "print(list2[0:10])"
      ],
      "metadata": {
        "colab": {
          "base_uri": "https://localhost:8080/"
        },
        "id": "5GWMN3_oruOJ",
        "outputId": "069a9440-86bf-4932-9c8f-5521cb053e34"
      },
      "execution_count": null,
      "outputs": [
        {
          "output_type": "stream",
          "name": "stdout",
          "text": [
            "(0, 0, 0, 0, 0, 0, 0, 0, 0, 0)\n",
            "(1, 2, 4519, 23073, 33043, 33971, 75503, 101215, 120044, 123880)\n"
          ]
        }
      ]
    },
    {
      "cell_type": "code",
      "source": [
        "with open('trainEdge.csv', 'w', newline='') as csvfile:\n",
        "  # 建立 CSV 檔寫入器\n",
        "  writer = csv.writer(csvfile)\n",
        "\n",
        "  # 寫入一列資料\n",
        "  writer.writerow(['Node1','Node2'])\n",
        "  for i in range(len(list1)):\n",
        "    writer.writerow([list1[i],list2[i]])"
      ],
      "metadata": {
        "id": "UT9uRbZlsK9U"
      },
      "execution_count": null,
      "outputs": []
    },
    {
      "cell_type": "code",
      "source": [
        "train_set = pd.read_csv('trainEdge.csv')\n",
        "G = nx.from_pandas_edgelist(train_set, \"Node1\", \"Node2\", create_using=nx.Graph())\n",
        "# compute the best partition\n",
        "partition = community.community_louvain.best_partition(G)"
      ],
      "metadata": {
        "id": "wlGsLkw3Q-QJ"
      },
      "execution_count": null,
      "outputs": []
    },
    {
      "cell_type": "code",
      "source": [
        "test_set = pd.read_csv('test.csv')\n",
        "testNode1 = test_set.iloc[:, 1].values\n",
        "testNode2 = test_set.iloc[:, 2].values\n",
        "testLength = len(testNode1)\n",
        "\n",
        "prediction = []\n",
        "for i in range(testLength):\n",
        "    if partition[testNode1[i]] == partition[testNode2[i]]:\n",
        "      prediction.append('1')\n",
        "    else:\n",
        "      prediction.append('0')\n",
        "\n",
        "print(len(prediction))"
      ],
      "metadata": {
        "colab": {
          "base_uri": "https://localhost:8080/"
        },
        "id": "JdCVegKeoWPl",
        "outputId": "3f95038c-bd34-4dda-aa44-4690120092d2"
      },
      "execution_count": null,
      "outputs": [
        {
          "output_type": "stream",
          "name": "stdout",
          "text": [
            "1000\n"
          ]
        }
      ]
    },
    {
      "cell_type": "code",
      "source": [
        "with open('community_detection.csv', 'w', newline='') as csvfile:\n",
        "  # 建立 CSV 檔寫入器\n",
        "  writer = csv.writer(csvfile)\n",
        "\n",
        "  # 寫入一列資料\n",
        "  writer.writerow(['Id','Category'])\n",
        "  for i in range(len(prediction)):\n",
        "    writer.writerow([i,prediction[i]])"
      ],
      "metadata": {
        "id": "hSOBOwdFnAZr"
      },
      "execution_count": null,
      "outputs": []
    }
  ]
}